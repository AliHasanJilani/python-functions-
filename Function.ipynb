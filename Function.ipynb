{
 "cells": [
  {
   "cell_type": "code",
   "execution_count": 1,
   "id": "ba0c8306-2cc5-4668-982d-cd5d897feacd",
   "metadata": {},
   "outputs": [],
   "source": [
    "# Function\n",
    "# block of code\n",
    "# we can use it for converting your code into smaller postion of code\n",
    "# help in reusability\n",
    "# debugging"
   ]
  },
  {
   "cell_type": "code",
   "execution_count": 5,
   "id": "ac1e2022-ee03-4a61-965b-0d58cded9d57",
   "metadata": {},
   "outputs": [],
   "source": [
    "# void func\n",
    "def hello():\n",
    "    print(\"hey\")\n",
    "    print(\"regex\")"
   ]
  },
  {
   "cell_type": "code",
   "execution_count": 9,
   "id": "06eeeaba-d23a-48a4-b185-cda5fe266aae",
   "metadata": {},
   "outputs": [
    {
     "name": "stdout",
     "output_type": "stream",
     "text": [
      "hey\n",
      "regex\n"
     ]
    }
   ],
   "source": [
    "hello()"
   ]
  },
  {
   "cell_type": "code",
   "execution_count": 13,
   "id": "18dbd57c-356e-4ef6-b4b3-ea0c072ccabd",
   "metadata": {},
   "outputs": [],
   "source": [
    "def hello():\n",
    "    z=\"ali\"\n",
    "    print(\"hey\",z)\n",
    "    "
   ]
  },
  {
   "cell_type": "code",
   "execution_count": 17,
   "id": "2a54eba1-8e09-49b4-9107-a83eb7f2bb82",
   "metadata": {},
   "outputs": [
    {
     "name": "stdout",
     "output_type": "stream",
     "text": [
      "hey ali\n"
     ]
    }
   ],
   "source": [
    "hello()"
   ]
  },
  {
   "cell_type": "code",
   "execution_count": 21,
   "id": "ee0c2a4e-dd7f-48df-91fc-3d234c519c88",
   "metadata": {},
   "outputs": [],
   "source": [
    "def hello(z):\n",
    "    print(\"Hey\",z)"
   ]
  },
  {
   "cell_type": "code",
   "execution_count": 29,
   "id": "859141a7-8ff7-41aa-a421-c9fb57033e5c",
   "metadata": {},
   "outputs": [
    {
     "name": "stdout",
     "output_type": "stream",
     "text": [
      "Hey Ali\n"
     ]
    }
   ],
   "source": [
    "hello(\"Ali\")"
   ]
  },
  {
   "cell_type": "code",
   "execution_count": 31,
   "id": "d3602c87-92a4-447b-b9f3-a0761efa6d2d",
   "metadata": {},
   "outputs": [],
   "source": [
    "xGlobal=10\n",
    "def hello():\n",
    "    print(\"regex\",xGlobal)"
   ]
  },
  {
   "cell_type": "code",
   "execution_count": 39,
   "id": "ee6b6a9e-e9f3-42e1-b6ca-aced2f547381",
   "metadata": {},
   "outputs": [
    {
     "name": "stdout",
     "output_type": "stream",
     "text": [
      "regex 10\n",
      "10\n"
     ]
    }
   ],
   "source": [
    "hello()\n",
    "print(xGlobal)"
   ]
  },
  {
   "cell_type": "code",
   "execution_count": 47,
   "id": "bf27dd3d-434a-499d-b7ee-baa91d80db6f",
   "metadata": {},
   "outputs": [],
   "source": [
    "xGlobal=10   #global variable\n",
    "def hello():\n",
    "    xGlobal=\"abc\"     #local variable\n",
    "    print(\"regex\",xGlobal)"
   ]
  },
  {
   "cell_type": "code",
   "execution_count": 49,
   "id": "4e713bea-ea07-496e-8c71-81a14dbd364c",
   "metadata": {},
   "outputs": [
    {
     "name": "stdout",
     "output_type": "stream",
     "text": [
      "regex abc\n",
      "10\n"
     ]
    }
   ],
   "source": [
    "hello()\n",
    "print(xGlobal)"
   ]
  },
  {
   "cell_type": "code",
   "execution_count": 54,
   "id": "d869d81a-3437-4211-8311-430955e205cf",
   "metadata": {},
   "outputs": [],
   "source": [
    "xGlobal=10  \n",
    "def hello():\n",
    "    global xGlobal\n",
    "    xGlobal=\"abc\"     \n",
    "    print(\"regex\",xGlobal)"
   ]
  },
  {
   "cell_type": "code",
   "execution_count": 56,
   "id": "9f80a0d7-d758-4543-bfc7-63337f38096e",
   "metadata": {},
   "outputs": [
    {
     "name": "stdout",
     "output_type": "stream",
     "text": [
      "regex abc\n",
      "abc\n"
     ]
    }
   ],
   "source": [
    "hello()\n",
    "print(xGlobal)"
   ]
  },
  {
   "cell_type": "code",
   "execution_count": 66,
   "id": "b8a1ada4-deca-49de-b298-3e50beee386f",
   "metadata": {},
   "outputs": [
    {
     "name": "stdout",
     "output_type": "stream",
     "text": [
      "140713983224856\n",
      "function inside:  140713983224856\n"
     ]
    }
   ],
   "source": [
    "def func(num):\n",
    "    print(\"function inside: \",id(num))\n",
    "\n",
    "x=20\n",
    "print(id(x))\n",
    "func(x)"
   ]
  },
  {
   "cell_type": "code",
   "execution_count": 74,
   "id": "6c7e2d13-00cb-4c67-8861-e9ffce5c0c29",
   "metadata": {},
   "outputs": [
    {
     "name": "stdout",
     "output_type": "stream",
     "text": [
      "before function: 140713983230936\n",
      "function inside:  140713983230936 210\n",
      "function inside new:  2096283598096 621\n",
      "After function: 140713983230936\n"
     ]
    }
   ],
   "source": [
    "def func(num):\n",
    "    print(\"function inside: \",id(num),num)\n",
    "    num=621\n",
    "    print(\"function inside new: \",id(num),num)\n",
    "\n",
    "num=210\n",
    "print(\"before function:\",id(num))\n",
    "func(num)\n",
    "print(\"After function:\",id(num))"
   ]
  },
  {
   "cell_type": "code",
   "execution_count": 80,
   "id": "ea2d90da-5471-43f8-acba-544c4344b5f0",
   "metadata": {},
   "outputs": [
    {
     "name": "stdout",
     "output_type": "stream",
     "text": [
      "new num: [10, 20, 303]\n"
     ]
    }
   ],
   "source": [
    "def func(num1):     #num_local=num\n",
    "    num1.append(303)\n",
    "\n",
    "# -----------------------------------\n",
    "\n",
    "num=[10,20]\n",
    "func(num)\n",
    "print(\"new num:\",num)"
   ]
  },
  {
   "cell_type": "code",
   "execution_count": 86,
   "id": "743a10d0-3837-4c26-b626-75b5f8edc11b",
   "metadata": {},
   "outputs": [
    {
     "name": "stdout",
     "output_type": "stream",
     "text": [
      "x: 1 y: 2 z: 3\n"
     ]
    }
   ],
   "source": [
    "def func(x,y,z):    #required argument\n",
    "    print(\"x:\",x, \"y:\",y, \"z:\",z)\n",
    "\n",
    "func(1,2,3)"
   ]
  },
  {
   "cell_type": "code",
   "execution_count": 90,
   "id": "e2319f7a-1308-424a-a0d5-e6e5fbba19f2",
   "metadata": {},
   "outputs": [
    {
     "name": "stdout",
     "output_type": "stream",
     "text": [
      "x: 3 y: 1 z: 2\n"
     ]
    }
   ],
   "source": [
    "def func(x,y,z):   #positional argument\n",
    "    print(\"x:\",x, \"y:\",y, \"z:\",z)\n",
    "\n",
    "func(3,1,2)"
   ]
  },
  {
   "cell_type": "code",
   "execution_count": 96,
   "id": "5f923cf0-3640-4b6e-8d8f-ff28bd226ec6",
   "metadata": {},
   "outputs": [
    {
     "name": "stdout",
     "output_type": "stream",
     "text": [
      "x: 3 y: 2 z: 1\n"
     ]
    }
   ],
   "source": [
    "def func(x,y,z):    #keyword argument\n",
    "    print(\"x:\",x, \"y:\",y, \"z:\",z)\n",
    "\n",
    "func(x=3,y=2,z=1)"
   ]
  },
  {
   "cell_type": "code",
   "execution_count": 104,
   "id": "784f9a32-fc56-4a8f-887d-5d81c3a63af2",
   "metadata": {},
   "outputs": [
    {
     "name": "stdout",
     "output_type": "stream",
     "text": [
      "x: 10 y: 20 z: abc\n"
     ]
    }
   ],
   "source": [
    "def func(x,y,z=\"abc\"):    #default argument\n",
    "    print(\"x:\",x, \"y:\",y, \"z:\",z)\n",
    "\n",
    "func(10,y=20)"
   ]
  },
  {
   "cell_type": "code",
   "execution_count": 112,
   "id": "d9b13325-f349-4e76-b5a7-c1113e771d1b",
   "metadata": {},
   "outputs": [],
   "source": [
    "def prime(n):\n",
    "    x=0\n",
    "    for i in range(2,n):\n",
    "        if(n%i==0):\n",
    "            x=1\n",
    "            break\n",
    "    if(x==1):\n",
    "        print(\"not prime\")\n",
    "    else:\n",
    "        print(\"prime\")"
   ]
  },
  {
   "cell_type": "code",
   "execution_count": 120,
   "id": "0e88c15b-c4d3-48ec-854d-a65ccacb1c7b",
   "metadata": {},
   "outputs": [
    {
     "name": "stdout",
     "output_type": "stream",
     "text": [
      "not prime\n"
     ]
    }
   ],
   "source": [
    "prime(6)"
   ]
  },
  {
   "cell_type": "code",
   "execution_count": 126,
   "id": "cd043371-918a-469b-bab5-0fdf17392672",
   "metadata": {},
   "outputs": [],
   "source": [
    "def func(x):\n",
    "    print(x+10)\n",
    "    "
   ]
  },
  {
   "cell_type": "code",
   "execution_count": 128,
   "id": "10bd35cc-98d9-4a39-8334-a4607519c491",
   "metadata": {},
   "outputs": [
    {
     "name": "stdout",
     "output_type": "stream",
     "text": [
      "20\n",
      "y: None\n"
     ]
    }
   ],
   "source": [
    "y=func(10) # y=None\n",
    "print(\"y:\",y)"
   ]
  },
  {
   "cell_type": "code",
   "execution_count": 132,
   "id": "f1b41ff2-ea7b-4be2-bf97-a8e70fe0133d",
   "metadata": {},
   "outputs": [],
   "source": [
    "def func(x):\n",
    "    return x+10"
   ]
  },
  {
   "cell_type": "code",
   "execution_count": 138,
   "id": "a1b507f1-a0eb-488c-9e13-10eb830c54cd",
   "metadata": {},
   "outputs": [
    {
     "name": "stdout",
     "output_type": "stream",
     "text": [
      "y: 20\n"
     ]
    }
   ],
   "source": [
    "y=func(10) \n",
    "print(\"y:\",y)"
   ]
  }
 ],
 "metadata": {
  "kernelspec": {
   "display_name": "Python [conda env:base] *",
   "language": "python",
   "name": "conda-base-py"
  },
  "language_info": {
   "codemirror_mode": {
    "name": "ipython",
    "version": 3
   },
   "file_extension": ".py",
   "mimetype": "text/x-python",
   "name": "python",
   "nbconvert_exporter": "python",
   "pygments_lexer": "ipython3",
   "version": "3.12.7"
  }
 },
 "nbformat": 4,
 "nbformat_minor": 5
}
